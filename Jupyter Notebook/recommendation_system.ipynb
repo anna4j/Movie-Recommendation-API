{
  "nbformat": 4,
  "nbformat_minor": 0,
  "metadata": {
    "colab": {
      "name": "recommendation_system.ipynb",
      "provenance": [],
      "authorship_tag": "ABX9TyMGJASBbs1thX9TG41pRpi4",
      "include_colab_link": true
    },
    "kernelspec": {
      "name": "python3",
      "display_name": "Python 3"
    }
  },
  "cells": [
    {
      "cell_type": "markdown",
      "metadata": {
        "id": "view-in-github",
        "colab_type": "text"
      },
      "source": [
        "<a href=\"https://colab.research.google.com/github/anna4j/Movie-Recommendation-API/blob/master/Jupyter%20Notebook/recommendation_system.ipynb\" target=\"_parent\"><img src=\"https://colab.research.google.com/assets/colab-badge.svg\" alt=\"Open In Colab\"/></a>"
      ]
    },
    {
      "cell_type": "code",
      "metadata": {
        "id": "xTfuln3JImLD"
      },
      "source": [
        "import pandas as pd\n",
        "import matplotlib.pyplot as plt\n",
        "import seaborn as sns\n",
        "from ast import literal_eval"
      ],
      "execution_count": 8,
      "outputs": []
    },
    {
      "cell_type": "code",
      "metadata": {
        "id": "PicpBd1YI8bd"
      },
      "source": [
        "movies = 'https://github.com/anna4j/Movie-Recommendation-API/blob/master/Raw%20Dataset/TMDB%205000%20Movie%20Dataset/tmdb_5000_movies.csv?raw=true'\n",
        "data_movies = pd.read_csv(movies ,na_filter=False)\n",
        "\n",
        "credits = 'https://github.com/anna4j/Movie-Recommendation-API/blob/master/Raw%20Dataset/TMDB%205000%20Movie%20Dataset/tmdb_5000_credits.csv?raw=true'\n",
        "data_credits = pd.read_csv(credits)"
      ],
      "execution_count": 9,
      "outputs": []
    },
    {
      "cell_type": "code",
      "metadata": {
        "id": "eM_zPY-nJxjX"
      },
      "source": [
        "data_credits.columns = ['movie_id','tittle','cast','crew']\n",
        "data_movies = data_movies.merge(data_credits,on='movie_id')"
      ],
      "execution_count": 10,
      "outputs": []
    },
    {
      "cell_type": "code",
      "metadata": {
        "id": "eOcoEXURJ6zC",
        "outputId": "af5a6bbb-913e-4b77-be16-54eb1b637d27",
        "colab": {
          "base_uri": "https://localhost:8080/",
          "height": 441
        }
      },
      "source": [
        "data_movies.head(3)\n"
      ],
      "execution_count": 12,
      "outputs": [
        {
          "output_type": "execute_result",
          "data": {
            "text/html": [
              "<div>\n",
              "<style scoped>\n",
              "    .dataframe tbody tr th:only-of-type {\n",
              "        vertical-align: middle;\n",
              "    }\n",
              "\n",
              "    .dataframe tbody tr th {\n",
              "        vertical-align: top;\n",
              "    }\n",
              "\n",
              "    .dataframe thead th {\n",
              "        text-align: right;\n",
              "    }\n",
              "</style>\n",
              "<table border=\"1\" class=\"dataframe\">\n",
              "  <thead>\n",
              "    <tr style=\"text-align: right;\">\n",
              "      <th></th>\n",
              "      <th>budget</th>\n",
              "      <th>genres</th>\n",
              "      <th>homepage</th>\n",
              "      <th>movie_id</th>\n",
              "      <th>keywords</th>\n",
              "      <th>original_language</th>\n",
              "      <th>original_title</th>\n",
              "      <th>overview</th>\n",
              "      <th>popularity</th>\n",
              "      <th>production_companies</th>\n",
              "      <th>production_countries</th>\n",
              "      <th>release_date</th>\n",
              "      <th>revenue</th>\n",
              "      <th>runtime</th>\n",
              "      <th>spoken_languages</th>\n",
              "      <th>status</th>\n",
              "      <th>tagline</th>\n",
              "      <th>title</th>\n",
              "      <th>vote_average</th>\n",
              "      <th>vote_count</th>\n",
              "      <th>tittle</th>\n",
              "      <th>cast</th>\n",
              "      <th>crew</th>\n",
              "    </tr>\n",
              "  </thead>\n",
              "  <tbody>\n",
              "    <tr>\n",
              "      <th>0</th>\n",
              "      <td>237000000</td>\n",
              "      <td>[{\"id\": 28, \"name\": \"Action\"}, {\"id\": 12, \"nam...</td>\n",
              "      <td>http://www.avatarmovie.com/</td>\n",
              "      <td>19995</td>\n",
              "      <td>[{\"id\": 1463, \"name\": \"culture clash\"}, {\"id\":...</td>\n",
              "      <td>en</td>\n",
              "      <td>Avatar</td>\n",
              "      <td>In the 22nd century, a paraplegic Marine is di...</td>\n",
              "      <td>150.437577</td>\n",
              "      <td>[{\"name\": \"Ingenious Film Partners\", \"id\": 289...</td>\n",
              "      <td>[{\"iso_3166_1\": \"US\", \"name\": \"United States o...</td>\n",
              "      <td>10-12-2009</td>\n",
              "      <td>2787965087</td>\n",
              "      <td>162</td>\n",
              "      <td>[{\"iso_639_1\": \"en\", \"name\": \"English\"}, {\"iso...</td>\n",
              "      <td>Released</td>\n",
              "      <td>Enter the World of Pandora.</td>\n",
              "      <td>Avatar</td>\n",
              "      <td>7.2</td>\n",
              "      <td>11800</td>\n",
              "      <td>Avatar</td>\n",
              "      <td>[{\"cast_id\": 242, \"character\": \"Jake Sully\", \"...</td>\n",
              "      <td>[{\"credit_id\": \"52fe48009251416c750aca23\", \"de...</td>\n",
              "    </tr>\n",
              "    <tr>\n",
              "      <th>1</th>\n",
              "      <td>300000000</td>\n",
              "      <td>[{\"id\": 12, \"name\": \"Adventure\"}, {\"id\": 14, \"...</td>\n",
              "      <td>http://disney.go.com/disneypictures/pirates/</td>\n",
              "      <td>285</td>\n",
              "      <td>[{\"id\": 270, \"name\": \"ocean\"}, {\"id\": 726, \"na...</td>\n",
              "      <td>en</td>\n",
              "      <td>Pirates of the Caribbean: At World's End</td>\n",
              "      <td>Captain Barbossa, long believed to be dead, ha...</td>\n",
              "      <td>139.082615</td>\n",
              "      <td>[{\"name\": \"Walt Disney Pictures\", \"id\": 2}, {\"...</td>\n",
              "      <td>[{\"iso_3166_1\": \"US\", \"name\": \"United States o...</td>\n",
              "      <td>19-05-2007</td>\n",
              "      <td>961000000</td>\n",
              "      <td>169</td>\n",
              "      <td>[{\"iso_639_1\": \"en\", \"name\": \"English\"}]</td>\n",
              "      <td>Released</td>\n",
              "      <td>At the end of the world, the adventure begins.</td>\n",
              "      <td>Pirates of the Caribbean: At World's End</td>\n",
              "      <td>6.9</td>\n",
              "      <td>4500</td>\n",
              "      <td>Pirates of the Caribbean: At World's End</td>\n",
              "      <td>[{\"cast_id\": 4, \"character\": \"Captain Jack Spa...</td>\n",
              "      <td>[{\"credit_id\": \"52fe4232c3a36847f800b579\", \"de...</td>\n",
              "    </tr>\n",
              "    <tr>\n",
              "      <th>2</th>\n",
              "      <td>245000000</td>\n",
              "      <td>[{\"id\": 28, \"name\": \"Action\"}, {\"id\": 12, \"nam...</td>\n",
              "      <td>http://www.sonypictures.com/movies/spectre/</td>\n",
              "      <td>206647</td>\n",
              "      <td>[{\"id\": 470, \"name\": \"spy\"}, {\"id\": 818, \"name...</td>\n",
              "      <td>en</td>\n",
              "      <td>Spectre</td>\n",
              "      <td>A cryptic message from Bond’s past sends him o...</td>\n",
              "      <td>107.376788</td>\n",
              "      <td>[{\"name\": \"Columbia Pictures\", \"id\": 5}, {\"nam...</td>\n",
              "      <td>[{\"iso_3166_1\": \"GB\", \"name\": \"United Kingdom\"...</td>\n",
              "      <td>26-10-2015</td>\n",
              "      <td>880674609</td>\n",
              "      <td>148</td>\n",
              "      <td>[{\"iso_639_1\": \"fr\", \"name\": \"Fran\\u00e7ais\"},...</td>\n",
              "      <td>Released</td>\n",
              "      <td>A Plan No One Escapes</td>\n",
              "      <td>Spectre</td>\n",
              "      <td>6.3</td>\n",
              "      <td>4466</td>\n",
              "      <td>Spectre</td>\n",
              "      <td>[{\"cast_id\": 1, \"character\": \"James Bond\", \"cr...</td>\n",
              "      <td>[{\"credit_id\": \"54805967c3a36829b5002c41\", \"de...</td>\n",
              "    </tr>\n",
              "  </tbody>\n",
              "</table>\n",
              "</div>"
            ],
            "text/plain": [
              "      budget  ...                                               crew\n",
              "0  237000000  ...  [{\"credit_id\": \"52fe48009251416c750aca23\", \"de...\n",
              "1  300000000  ...  [{\"credit_id\": \"52fe4232c3a36847f800b579\", \"de...\n",
              "2  245000000  ...  [{\"credit_id\": \"54805967c3a36829b5002c41\", \"de...\n",
              "\n",
              "[3 rows x 23 columns]"
            ]
          },
          "metadata": {
            "tags": []
          },
          "execution_count": 12
        }
      ]
    },
    {
      "cell_type": "code",
      "metadata": {
        "id": "DtxbZZrONFJM",
        "outputId": "8fe44022-d8fa-4ada-87aa-66fbef20e301",
        "colab": {
          "base_uri": "https://localhost:8080/",
          "height": 107
        }
      },
      "source": [
        "data_movies = data_movies.drop(columns=['tittle', 'tagline', 'status', 'homepage', \n",
        "                                        'keywords','crew','vote_count', 'vote_average',\n",
        "                                       'tagline', 'spoken_languages', 'runtime',\n",
        "                                       'popularity', 'production_companies', 'budget',\n",
        "                                       'production_countries', 'release_date', 'revenue',\n",
        "                                        'title', 'original_language'])\n",
        "\n",
        "data_movies.head(2)"
      ],
      "execution_count": 13,
      "outputs": [
        {
          "output_type": "execute_result",
          "data": {
            "text/html": [
              "<div>\n",
              "<style scoped>\n",
              "    .dataframe tbody tr th:only-of-type {\n",
              "        vertical-align: middle;\n",
              "    }\n",
              "\n",
              "    .dataframe tbody tr th {\n",
              "        vertical-align: top;\n",
              "    }\n",
              "\n",
              "    .dataframe thead th {\n",
              "        text-align: right;\n",
              "    }\n",
              "</style>\n",
              "<table border=\"1\" class=\"dataframe\">\n",
              "  <thead>\n",
              "    <tr style=\"text-align: right;\">\n",
              "      <th></th>\n",
              "      <th>genres</th>\n",
              "      <th>movie_id</th>\n",
              "      <th>original_title</th>\n",
              "      <th>overview</th>\n",
              "      <th>cast</th>\n",
              "    </tr>\n",
              "  </thead>\n",
              "  <tbody>\n",
              "    <tr>\n",
              "      <th>0</th>\n",
              "      <td>[{\"id\": 28, \"name\": \"Action\"}, {\"id\": 12, \"nam...</td>\n",
              "      <td>19995</td>\n",
              "      <td>Avatar</td>\n",
              "      <td>In the 22nd century, a paraplegic Marine is di...</td>\n",
              "      <td>[{\"cast_id\": 242, \"character\": \"Jake Sully\", \"...</td>\n",
              "    </tr>\n",
              "    <tr>\n",
              "      <th>1</th>\n",
              "      <td>[{\"id\": 12, \"name\": \"Adventure\"}, {\"id\": 14, \"...</td>\n",
              "      <td>285</td>\n",
              "      <td>Pirates of the Caribbean: At World's End</td>\n",
              "      <td>Captain Barbossa, long believed to be dead, ha...</td>\n",
              "      <td>[{\"cast_id\": 4, \"character\": \"Captain Jack Spa...</td>\n",
              "    </tr>\n",
              "  </tbody>\n",
              "</table>\n",
              "</div>"
            ],
            "text/plain": [
              "                                              genres  ...                                               cast\n",
              "0  [{\"id\": 28, \"name\": \"Action\"}, {\"id\": 12, \"nam...  ...  [{\"cast_id\": 242, \"character\": \"Jake Sully\", \"...\n",
              "1  [{\"id\": 12, \"name\": \"Adventure\"}, {\"id\": 14, \"...  ...  [{\"cast_id\": 4, \"character\": \"Captain Jack Spa...\n",
              "\n",
              "[2 rows x 5 columns]"
            ]
          },
          "metadata": {
            "tags": []
          },
          "execution_count": 13
        }
      ]
    },
    {
      "cell_type": "code",
      "metadata": {
        "id": "_C_-MTAJNQp_"
      },
      "source": [
        "features = ['cast', 'genres']\n",
        "for feature in features:\n",
        "    data_movies[feature] = data_movies[feature].apply(literal_eval)"
      ],
      "execution_count": 14,
      "outputs": []
    },
    {
      "cell_type": "code",
      "metadata": {
        "id": "75wBwE2vNU9R"
      },
      "source": [
        "def get_list(meta_data):\n",
        "    if isinstance(meta_data, list):\n",
        "        names = [col['name'] for col in meta_data]\n",
        "        #Check if more than 3 elements exist. If yes, return only first three. If no, return entire list.\n",
        "        if len(names) > 3:\n",
        "            names = names[:3]\n",
        "        return names\n",
        "\n",
        "    #Return empty list in case of missing/malformed data\n",
        "    return []\n",
        "\n",
        "features = ['cast','genres']\n",
        "for feature in features:\n",
        "    data_movies[feature] = data_movies[feature].apply(get_list)"
      ],
      "execution_count": 15,
      "outputs": []
    },
    {
      "cell_type": "code",
      "metadata": {
        "id": "O6dS1ZY3NZJk",
        "outputId": "f986e0f4-d64f-4426-868a-8b3df115282e",
        "colab": {
          "base_uri": "https://localhost:8080/",
          "height": 107
        }
      },
      "source": [
        "data_movies.head(2)\n"
      ],
      "execution_count": 16,
      "outputs": [
        {
          "output_type": "execute_result",
          "data": {
            "text/html": [
              "<div>\n",
              "<style scoped>\n",
              "    .dataframe tbody tr th:only-of-type {\n",
              "        vertical-align: middle;\n",
              "    }\n",
              "\n",
              "    .dataframe tbody tr th {\n",
              "        vertical-align: top;\n",
              "    }\n",
              "\n",
              "    .dataframe thead th {\n",
              "        text-align: right;\n",
              "    }\n",
              "</style>\n",
              "<table border=\"1\" class=\"dataframe\">\n",
              "  <thead>\n",
              "    <tr style=\"text-align: right;\">\n",
              "      <th></th>\n",
              "      <th>genres</th>\n",
              "      <th>movie_id</th>\n",
              "      <th>original_title</th>\n",
              "      <th>overview</th>\n",
              "      <th>cast</th>\n",
              "    </tr>\n",
              "  </thead>\n",
              "  <tbody>\n",
              "    <tr>\n",
              "      <th>0</th>\n",
              "      <td>[Action, Adventure, Fantasy]</td>\n",
              "      <td>19995</td>\n",
              "      <td>Avatar</td>\n",
              "      <td>In the 22nd century, a paraplegic Marine is di...</td>\n",
              "      <td>[Sam Worthington, Zoe Saldana, Sigourney Weaver]</td>\n",
              "    </tr>\n",
              "    <tr>\n",
              "      <th>1</th>\n",
              "      <td>[Adventure, Fantasy, Action]</td>\n",
              "      <td>285</td>\n",
              "      <td>Pirates of the Caribbean: At World's End</td>\n",
              "      <td>Captain Barbossa, long believed to be dead, ha...</td>\n",
              "      <td>[Johnny Depp, Orlando Bloom, Keira Knightley]</td>\n",
              "    </tr>\n",
              "  </tbody>\n",
              "</table>\n",
              "</div>"
            ],
            "text/plain": [
              "                         genres  ...                                              cast\n",
              "0  [Action, Adventure, Fantasy]  ...  [Sam Worthington, Zoe Saldana, Sigourney Weaver]\n",
              "1  [Adventure, Fantasy, Action]  ...     [Johnny Depp, Orlando Bloom, Keira Knightley]\n",
              "\n",
              "[2 rows x 5 columns]"
            ]
          },
          "metadata": {
            "tags": []
          },
          "execution_count": 16
        }
      ]
    },
    {
      "cell_type": "code",
      "metadata": {
        "id": "w2lIOaU3NdSO"
      },
      "source": [
        "#data_movies['cast'] = data_movies['cast'].fillna('[]').apply(literal_eval).apply(lambda x: [i['name'] for i in x if len(name)>3])\n",
        "#data_movies['genres'] = data_movies['genres'].fillna('[]').apply(literal_eval).apply(lambda x: [i['name'] for i in x if len(name)>3])\n",
        "\n",
        "#data_movies.head(2)"
      ],
      "execution_count": 17,
      "outputs": []
    },
    {
      "cell_type": "code",
      "metadata": {
        "id": "SrmJpDvYN2eS",
        "outputId": "67cfa148-2e97-4e76-abcc-86aa437d9d85",
        "colab": {
          "base_uri": "https://localhost:8080/",
          "height": 328
        }
      },
      "source": [
        "hindi_movies = 'https://github.com/anna4j/Movie-Recommendation-API/blob/master/Raw%20Dataset/The%20Indian%20Movie%20Database/Final/bollywood_full_1950-2019.csv?raw=true'\n",
        "data_movies_hindi = pd.read_csv(hindi_movies, na_filter=False)\n",
        "\n",
        "data_movies_hindi.head(2)"
      ],
      "execution_count": 18,
      "outputs": [
        {
          "output_type": "execute_result",
          "data": {
            "text/html": [
              "<div>\n",
              "<style scoped>\n",
              "    .dataframe tbody tr th:only-of-type {\n",
              "        vertical-align: middle;\n",
              "    }\n",
              "\n",
              "    .dataframe tbody tr th {\n",
              "        vertical-align: top;\n",
              "    }\n",
              "\n",
              "    .dataframe thead th {\n",
              "        text-align: right;\n",
              "    }\n",
              "</style>\n",
              "<table border=\"1\" class=\"dataframe\">\n",
              "  <thead>\n",
              "    <tr style=\"text-align: right;\">\n",
              "      <th></th>\n",
              "      <th>title_x</th>\n",
              "      <th>imdb_id</th>\n",
              "      <th>poster_path</th>\n",
              "      <th>wiki_link</th>\n",
              "      <th>title_y</th>\n",
              "      <th>original_title</th>\n",
              "      <th>is_adult</th>\n",
              "      <th>year_of_release</th>\n",
              "      <th>runtime</th>\n",
              "      <th>genres</th>\n",
              "      <th>imdb_rating</th>\n",
              "      <th>imdb_votes</th>\n",
              "      <th>story</th>\n",
              "      <th>summary</th>\n",
              "      <th>tagline</th>\n",
              "      <th>actors</th>\n",
              "      <th>wins_nominations</th>\n",
              "      <th>release_date</th>\n",
              "    </tr>\n",
              "  </thead>\n",
              "  <tbody>\n",
              "    <tr>\n",
              "      <th>0</th>\n",
              "      <td>Uri: The Surgical Strike</td>\n",
              "      <td>tt8291224</td>\n",
              "      <td>https://upload.wikimedia.org/wikipedia/en/thum...</td>\n",
              "      <td>https://en.wikipedia.org/wiki/Uri:_The_Surgica...</td>\n",
              "      <td>Uri: The Surgical Strike</td>\n",
              "      <td>Uri: The Surgical Strike</td>\n",
              "      <td>0</td>\n",
              "      <td>2019</td>\n",
              "      <td>138</td>\n",
              "      <td>Action|Drama|War</td>\n",
              "      <td>8.4</td>\n",
              "      <td>35112.0</td>\n",
              "      <td>Divided over five chapters  the film chronicle...</td>\n",
              "      <td>Indian army special forces execute a covert op...</td>\n",
              "      <td></td>\n",
              "      <td>Vicky Kaushal|Paresh Rawal|Mohit Raina|Yami Ga...</td>\n",
              "      <td>4 wins</td>\n",
              "      <td>11 January 2019 (USA)</td>\n",
              "    </tr>\n",
              "    <tr>\n",
              "      <th>1</th>\n",
              "      <td>Battalion 609</td>\n",
              "      <td>tt9472208</td>\n",
              "      <td></td>\n",
              "      <td>https://en.wikipedia.org/wiki/Battalion_609</td>\n",
              "      <td>Battalion 609</td>\n",
              "      <td>Battalion 609</td>\n",
              "      <td>0</td>\n",
              "      <td>2019</td>\n",
              "      <td>131</td>\n",
              "      <td>War</td>\n",
              "      <td>4.1</td>\n",
              "      <td>73.0</td>\n",
              "      <td>The story revolves around a cricket match betw...</td>\n",
              "      <td>The story of Battalion 609 revolves around a c...</td>\n",
              "      <td></td>\n",
              "      <td>Vicky Ahuja|Shoaib Ibrahim|Shrikant Kamat|Elen...</td>\n",
              "      <td></td>\n",
              "      <td>11 January 2019 (India)</td>\n",
              "    </tr>\n",
              "  </tbody>\n",
              "</table>\n",
              "</div>"
            ],
            "text/plain": [
              "                    title_x  ...             release_date\n",
              "0  Uri: The Surgical Strike  ...    11 January 2019 (USA)\n",
              "1             Battalion 609  ...  11 January 2019 (India)\n",
              "\n",
              "[2 rows x 18 columns]"
            ]
          },
          "metadata": {
            "tags": []
          },
          "execution_count": 18
        }
      ]
    },
    {
      "cell_type": "code",
      "metadata": {
        "id": "MrjwyKpGOeKQ",
        "outputId": "9a9045f7-4610-4b71-b5d2-bf3d06cec915",
        "colab": {
          "base_uri": "https://localhost:8080/",
          "height": 196
        }
      },
      "source": [
        "data_movies_hindi = data_movies_hindi.drop(columns=['title_x', 'tagline', 'poster_path', \n",
        "                                        'wiki_link','title_y','is_adult', 'year_of_release',\n",
        "                                       'tagline', 'imdb_rating', 'runtime',\n",
        "                                       'imdb_votes', 'story',\n",
        "                                       'wins_nominations', 'release_date'])\n",
        "\n",
        "data_movies_hindi.rename(columns = {'actors':'cast', 'imdb_id':'movie_id'}, inplace = True)\n",
        "\n",
        "data_movies_hindi['genres'] = data_movies_hindi['genres'].str.split('|')\n",
        "\n",
        "data_movies_hindi['cast'] = data_movies_hindi['cast'].str.split('|')\n",
        "\n",
        "data_movies_hindi = data_movies_hindi.drop([697])\n",
        "\n",
        "data_movies_hindi.head()"
      ],
      "execution_count": 19,
      "outputs": [
        {
          "output_type": "execute_result",
          "data": {
            "text/html": [
              "<div>\n",
              "<style scoped>\n",
              "    .dataframe tbody tr th:only-of-type {\n",
              "        vertical-align: middle;\n",
              "    }\n",
              "\n",
              "    .dataframe tbody tr th {\n",
              "        vertical-align: top;\n",
              "    }\n",
              "\n",
              "    .dataframe thead th {\n",
              "        text-align: right;\n",
              "    }\n",
              "</style>\n",
              "<table border=\"1\" class=\"dataframe\">\n",
              "  <thead>\n",
              "    <tr style=\"text-align: right;\">\n",
              "      <th></th>\n",
              "      <th>movie_id</th>\n",
              "      <th>original_title</th>\n",
              "      <th>genres</th>\n",
              "      <th>summary</th>\n",
              "      <th>cast</th>\n",
              "    </tr>\n",
              "  </thead>\n",
              "  <tbody>\n",
              "    <tr>\n",
              "      <th>0</th>\n",
              "      <td>tt8291224</td>\n",
              "      <td>Uri: The Surgical Strike</td>\n",
              "      <td>[Action, Drama, War]</td>\n",
              "      <td>Indian army special forces execute a covert op...</td>\n",
              "      <td>[Vicky Kaushal, Paresh Rawal, Mohit Raina, Yam...</td>\n",
              "    </tr>\n",
              "    <tr>\n",
              "      <th>1</th>\n",
              "      <td>tt9472208</td>\n",
              "      <td>Battalion 609</td>\n",
              "      <td>[War]</td>\n",
              "      <td>The story of Battalion 609 revolves around a c...</td>\n",
              "      <td>[Vicky Ahuja, Shoaib Ibrahim, Shrikant Kamat, ...</td>\n",
              "    </tr>\n",
              "    <tr>\n",
              "      <th>2</th>\n",
              "      <td>tt6986710</td>\n",
              "      <td>The Accidental Prime Minister</td>\n",
              "      <td>[Biography, Drama]</td>\n",
              "      <td>Explores Manmohan Singh's tenure as the Prime ...</td>\n",
              "      <td>[Anupam Kher, Akshaye Khanna, Aahana Kumra, At...</td>\n",
              "    </tr>\n",
              "    <tr>\n",
              "      <th>3</th>\n",
              "      <td>tt8108208</td>\n",
              "      <td>Why Cheat India</td>\n",
              "      <td>[Crime, Drama]</td>\n",
              "      <td>The movie focuses on existing malpractices in ...</td>\n",
              "      <td>[Emraan Hashmi, Shreya Dhanwanthary, Snighdade...</td>\n",
              "    </tr>\n",
              "    <tr>\n",
              "      <th>4</th>\n",
              "      <td>tt6028796</td>\n",
              "      <td>Evening Shadows</td>\n",
              "      <td>[Drama]</td>\n",
              "      <td>Under the 'Evening Shadows'  truth often plays...</td>\n",
              "      <td>[Mona Ambegaonkar, Ananth Narayan Mahadevan, D...</td>\n",
              "    </tr>\n",
              "  </tbody>\n",
              "</table>\n",
              "</div>"
            ],
            "text/plain": [
              "    movie_id  ...                                               cast\n",
              "0  tt8291224  ...  [Vicky Kaushal, Paresh Rawal, Mohit Raina, Yam...\n",
              "1  tt9472208  ...  [Vicky Ahuja, Shoaib Ibrahim, Shrikant Kamat, ...\n",
              "2  tt6986710  ...  [Anupam Kher, Akshaye Khanna, Aahana Kumra, At...\n",
              "3  tt8108208  ...  [Emraan Hashmi, Shreya Dhanwanthary, Snighdade...\n",
              "4  tt6028796  ...  [Mona Ambegaonkar, Ananth Narayan Mahadevan, D...\n",
              "\n",
              "[5 rows x 5 columns]"
            ]
          },
          "metadata": {
            "tags": []
          },
          "execution_count": 19
        }
      ]
    },
    {
      "cell_type": "code",
      "metadata": {
        "id": "NB1OVbINPfRI",
        "outputId": "73fcaf00-9663-479a-a243-d5094912ed05",
        "colab": {
          "base_uri": "https://localhost:8080/",
          "height": 196
        }
      },
      "source": [
        "def clean_data(actors):\n",
        "    if isinstance(actors, list):\n",
        "        return actors[:3]\n",
        "\n",
        "features = ['cast']\n",
        "for feature in features:\n",
        "    data_movies_hindi[feature] = data_movies_hindi[feature].apply(clean_data)\n",
        "\n",
        "data_movies_hindi.head()"
      ],
      "execution_count": 20,
      "outputs": [
        {
          "output_type": "execute_result",
          "data": {
            "text/html": [
              "<div>\n",
              "<style scoped>\n",
              "    .dataframe tbody tr th:only-of-type {\n",
              "        vertical-align: middle;\n",
              "    }\n",
              "\n",
              "    .dataframe tbody tr th {\n",
              "        vertical-align: top;\n",
              "    }\n",
              "\n",
              "    .dataframe thead th {\n",
              "        text-align: right;\n",
              "    }\n",
              "</style>\n",
              "<table border=\"1\" class=\"dataframe\">\n",
              "  <thead>\n",
              "    <tr style=\"text-align: right;\">\n",
              "      <th></th>\n",
              "      <th>movie_id</th>\n",
              "      <th>original_title</th>\n",
              "      <th>genres</th>\n",
              "      <th>summary</th>\n",
              "      <th>cast</th>\n",
              "    </tr>\n",
              "  </thead>\n",
              "  <tbody>\n",
              "    <tr>\n",
              "      <th>0</th>\n",
              "      <td>tt8291224</td>\n",
              "      <td>Uri: The Surgical Strike</td>\n",
              "      <td>[Action, Drama, War]</td>\n",
              "      <td>Indian army special forces execute a covert op...</td>\n",
              "      <td>[Vicky Kaushal, Paresh Rawal, Mohit Raina]</td>\n",
              "    </tr>\n",
              "    <tr>\n",
              "      <th>1</th>\n",
              "      <td>tt9472208</td>\n",
              "      <td>Battalion 609</td>\n",
              "      <td>[War]</td>\n",
              "      <td>The story of Battalion 609 revolves around a c...</td>\n",
              "      <td>[Vicky Ahuja, Shoaib Ibrahim, Shrikant Kamat]</td>\n",
              "    </tr>\n",
              "    <tr>\n",
              "      <th>2</th>\n",
              "      <td>tt6986710</td>\n",
              "      <td>The Accidental Prime Minister</td>\n",
              "      <td>[Biography, Drama]</td>\n",
              "      <td>Explores Manmohan Singh's tenure as the Prime ...</td>\n",
              "      <td>[Anupam Kher, Akshaye Khanna, Aahana Kumra]</td>\n",
              "    </tr>\n",
              "    <tr>\n",
              "      <th>3</th>\n",
              "      <td>tt8108208</td>\n",
              "      <td>Why Cheat India</td>\n",
              "      <td>[Crime, Drama]</td>\n",
              "      <td>The movie focuses on existing malpractices in ...</td>\n",
              "      <td>[Emraan Hashmi, Shreya Dhanwanthary, Snighdade...</td>\n",
              "    </tr>\n",
              "    <tr>\n",
              "      <th>4</th>\n",
              "      <td>tt6028796</td>\n",
              "      <td>Evening Shadows</td>\n",
              "      <td>[Drama]</td>\n",
              "      <td>Under the 'Evening Shadows'  truth often plays...</td>\n",
              "      <td>[Mona Ambegaonkar, Ananth Narayan Mahadevan, D...</td>\n",
              "    </tr>\n",
              "  </tbody>\n",
              "</table>\n",
              "</div>"
            ],
            "text/plain": [
              "    movie_id  ...                                               cast\n",
              "0  tt8291224  ...         [Vicky Kaushal, Paresh Rawal, Mohit Raina]\n",
              "1  tt9472208  ...      [Vicky Ahuja, Shoaib Ibrahim, Shrikant Kamat]\n",
              "2  tt6986710  ...        [Anupam Kher, Akshaye Khanna, Aahana Kumra]\n",
              "3  tt8108208  ...  [Emraan Hashmi, Shreya Dhanwanthary, Snighdade...\n",
              "4  tt6028796  ...  [Mona Ambegaonkar, Ananth Narayan Mahadevan, D...\n",
              "\n",
              "[5 rows x 5 columns]"
            ]
          },
          "metadata": {
            "tags": []
          },
          "execution_count": 20
        }
      ]
    },
    {
      "cell_type": "code",
      "metadata": {
        "id": "0gpDyTZFP4Lj",
        "outputId": "2705479e-91b1-4bba-ac53-ad6dc5521248",
        "colab": {
          "base_uri": "https://localhost:8080/",
          "height": 117
        }
      },
      "source": [
        "data_movies_hindi.isnull().sum()\n"
      ],
      "execution_count": 21,
      "outputs": [
        {
          "output_type": "execute_result",
          "data": {
            "text/plain": [
              "movie_id          0\n",
              "original_title    0\n",
              "genres            0\n",
              "summary           0\n",
              "cast              0\n",
              "dtype: int64"
            ]
          },
          "metadata": {
            "tags": []
          },
          "execution_count": 21
        }
      ]
    },
    {
      "cell_type": "code",
      "metadata": {
        "id": "fuRflXDjP7XN",
        "outputId": "8347f1bd-7cb5-4241-a42f-4cb515202af2",
        "colab": {
          "base_uri": "https://localhost:8080/",
          "height": 538
        }
      },
      "source": [
        "combine = data_movies.append(data_movies_hindi, ignore_index=True, sort=True)\n",
        "\n",
        "combine = combine.drop([5160])\n",
        "\n",
        "#combine['plot'] = combine[['overview', 'summary']].apply(lambda x: ' '.join(x), axis = 1) \n",
        "\n",
        "#combine = combine.drop(['summary','overview'],axis=1)\n",
        "\n",
        "combine  #5160"
      ],
      "execution_count": 22,
      "outputs": [
        {
          "output_type": "execute_result",
          "data": {
            "text/html": [
              "<div>\n",
              "<style scoped>\n",
              "    .dataframe tbody tr th:only-of-type {\n",
              "        vertical-align: middle;\n",
              "    }\n",
              "\n",
              "    .dataframe tbody tr th {\n",
              "        vertical-align: top;\n",
              "    }\n",
              "\n",
              "    .dataframe thead th {\n",
              "        text-align: right;\n",
              "    }\n",
              "</style>\n",
              "<table border=\"1\" class=\"dataframe\">\n",
              "  <thead>\n",
              "    <tr style=\"text-align: right;\">\n",
              "      <th></th>\n",
              "      <th>cast</th>\n",
              "      <th>genres</th>\n",
              "      <th>movie_id</th>\n",
              "      <th>original_title</th>\n",
              "      <th>overview</th>\n",
              "      <th>summary</th>\n",
              "    </tr>\n",
              "  </thead>\n",
              "  <tbody>\n",
              "    <tr>\n",
              "      <th>0</th>\n",
              "      <td>[Sam Worthington, Zoe Saldana, Sigourney Weaver]</td>\n",
              "      <td>[Action, Adventure, Fantasy]</td>\n",
              "      <td>19995</td>\n",
              "      <td>Avatar</td>\n",
              "      <td>In the 22nd century, a paraplegic Marine is di...</td>\n",
              "      <td>NaN</td>\n",
              "    </tr>\n",
              "    <tr>\n",
              "      <th>1</th>\n",
              "      <td>[Johnny Depp, Orlando Bloom, Keira Knightley]</td>\n",
              "      <td>[Adventure, Fantasy, Action]</td>\n",
              "      <td>285</td>\n",
              "      <td>Pirates of the Caribbean: At World's End</td>\n",
              "      <td>Captain Barbossa, long believed to be dead, ha...</td>\n",
              "      <td>NaN</td>\n",
              "    </tr>\n",
              "    <tr>\n",
              "      <th>2</th>\n",
              "      <td>[Daniel Craig, Christoph Waltz, Léa Seydoux]</td>\n",
              "      <td>[Action, Adventure, Crime]</td>\n",
              "      <td>206647</td>\n",
              "      <td>Spectre</td>\n",
              "      <td>A cryptic message from Bond’s past sends him o...</td>\n",
              "      <td>NaN</td>\n",
              "    </tr>\n",
              "    <tr>\n",
              "      <th>3</th>\n",
              "      <td>[Christian Bale, Michael Caine, Gary Oldman]</td>\n",
              "      <td>[Action, Crime, Drama]</td>\n",
              "      <td>49026</td>\n",
              "      <td>The Dark Knight Rises</td>\n",
              "      <td>Following the death of District Attorney Harve...</td>\n",
              "      <td>NaN</td>\n",
              "    </tr>\n",
              "    <tr>\n",
              "      <th>4</th>\n",
              "      <td>[Taylor Kitsch, Lynn Collins, Samantha Morton]</td>\n",
              "      <td>[Action, Adventure, Science Fiction]</td>\n",
              "      <td>49529</td>\n",
              "      <td>John Carter</td>\n",
              "      <td>John Carter is a war-weary, former military ca...</td>\n",
              "      <td>NaN</td>\n",
              "    </tr>\n",
              "    <tr>\n",
              "      <th>...</th>\n",
              "      <td>...</td>\n",
              "      <td>...</td>\n",
              "      <td>...</td>\n",
              "      <td>...</td>\n",
              "      <td>...</td>\n",
              "      <td>...</td>\n",
              "    </tr>\n",
              "    <tr>\n",
              "      <th>9127</th>\n",
              "      <td>[Ashok Kumar, Nalini Jaywant, Kuldip Kaur]</td>\n",
              "      <td>[Drama]</td>\n",
              "      <td>tt0268614</td>\n",
              "      <td>Samadhi</td>\n",
              "      <td>NaN</td>\n",
              "      <td>The story is based on the true incident at INA...</td>\n",
              "    </tr>\n",
              "    <tr>\n",
              "      <th>9128</th>\n",
              "      <td>[Ashok Kumar, Nalini Jaywant, Nawab]</td>\n",
              "      <td>[Drama]</td>\n",
              "      <td>tt0244182</td>\n",
              "      <td>Sangram</td>\n",
              "      <td>NaN</td>\n",
              "      <td>After the death of his wife  a policeman fails...</td>\n",
              "    </tr>\n",
              "    <tr>\n",
              "      <th>9129</th>\n",
              "      <td>[Raj Kapoor, Rehana, Om Prakash]</td>\n",
              "      <td>[Drama, Family]</td>\n",
              "      <td>tt0269826</td>\n",
              "      <td>Sargam</td>\n",
              "      <td>NaN</td>\n",
              "      <td>Add a Plot »</td>\n",
              "    </tr>\n",
              "    <tr>\n",
              "      <th>9130</th>\n",
              "      <td>[Sohrab Modi, Naseem Banu, Pushpa Hans]</td>\n",
              "      <td>[Drama]</td>\n",
              "      <td>tt0243555</td>\n",
              "      <td>Sheesh Mahal</td>\n",
              "      <td>NaN</td>\n",
              "      <td>Thakur Jaspal Singh lives in the prestigious a...</td>\n",
              "    </tr>\n",
              "    <tr>\n",
              "      <th>9131</th>\n",
              "      <td>[]</td>\n",
              "      <td>[Drama]</td>\n",
              "      <td>tt0213081</td>\n",
              "      <td>Meena Bazaar</td>\n",
              "      <td>NaN</td>\n",
              "      <td>Add a Plot »</td>\n",
              "    </tr>\n",
              "  </tbody>\n",
              "</table>\n",
              "<p>9131 rows × 6 columns</p>\n",
              "</div>"
            ],
            "text/plain": [
              "                                                  cast  ...                                            summary\n",
              "0     [Sam Worthington, Zoe Saldana, Sigourney Weaver]  ...                                                NaN\n",
              "1        [Johnny Depp, Orlando Bloom, Keira Knightley]  ...                                                NaN\n",
              "2         [Daniel Craig, Christoph Waltz, Léa Seydoux]  ...                                                NaN\n",
              "3         [Christian Bale, Michael Caine, Gary Oldman]  ...                                                NaN\n",
              "4       [Taylor Kitsch, Lynn Collins, Samantha Morton]  ...                                                NaN\n",
              "...                                                ...  ...                                                ...\n",
              "9127        [Ashok Kumar, Nalini Jaywant, Kuldip Kaur]  ...  The story is based on the true incident at INA...\n",
              "9128              [Ashok Kumar, Nalini Jaywant, Nawab]  ...  After the death of his wife  a policeman fails...\n",
              "9129                  [Raj Kapoor, Rehana, Om Prakash]  ...                                       Add a Plot »\n",
              "9130           [Sohrab Modi, Naseem Banu, Pushpa Hans]  ...  Thakur Jaspal Singh lives in the prestigious a...\n",
              "9131                                                []  ...                                       Add a Plot »\n",
              "\n",
              "[9131 rows x 6 columns]"
            ]
          },
          "metadata": {
            "tags": []
          },
          "execution_count": 22
        }
      ]
    },
    {
      "cell_type": "code",
      "metadata": {
        "id": "p7pXs8fnQFic"
      },
      "source": [
        "combine.to_csv('movie_data_test.csv', index=False)\n"
      ],
      "execution_count": 23,
      "outputs": []
    },
    {
      "cell_type": "code",
      "metadata": {
        "id": "rR2-daHvQI8a"
      },
      "source": [
        "pd.set_option('display.max_rows', None)\n",
        "\n",
        "final_data = pd.read_csv('movie_data_test.csv', na_filter=False)\n",
        "\n",
        "final_data['plot'] = final_data[['overview', 'summary']].apply(lambda x: ' '.join(x), axis = 1) \n",
        "\n",
        "final_data = final_data.drop(['summary','overview'],axis=1)\n",
        "\n",
        "final_data = final_data[:-1]"
      ],
      "execution_count": 25,
      "outputs": []
    },
    {
      "cell_type": "code",
      "metadata": {
        "id": "c-2KAuHIQL7W",
        "outputId": "3ab3b20f-e83f-4cf0-d58d-f76c30cf5e8d",
        "colab": {
          "base_uri": "https://localhost:8080/",
          "height": 196
        }
      },
      "source": [
        "final_data.head(5)"
      ],
      "execution_count": 26,
      "outputs": [
        {
          "output_type": "execute_result",
          "data": {
            "text/html": [
              "<div>\n",
              "<style scoped>\n",
              "    .dataframe tbody tr th:only-of-type {\n",
              "        vertical-align: middle;\n",
              "    }\n",
              "\n",
              "    .dataframe tbody tr th {\n",
              "        vertical-align: top;\n",
              "    }\n",
              "\n",
              "    .dataframe thead th {\n",
              "        text-align: right;\n",
              "    }\n",
              "</style>\n",
              "<table border=\"1\" class=\"dataframe\">\n",
              "  <thead>\n",
              "    <tr style=\"text-align: right;\">\n",
              "      <th></th>\n",
              "      <th>cast</th>\n",
              "      <th>genres</th>\n",
              "      <th>movie_id</th>\n",
              "      <th>original_title</th>\n",
              "      <th>plot</th>\n",
              "    </tr>\n",
              "  </thead>\n",
              "  <tbody>\n",
              "    <tr>\n",
              "      <th>0</th>\n",
              "      <td>['Sam Worthington', 'Zoe Saldana', 'Sigourney ...</td>\n",
              "      <td>['Action', 'Adventure', 'Fantasy']</td>\n",
              "      <td>19995</td>\n",
              "      <td>Avatar</td>\n",
              "      <td>In the 22nd century, a paraplegic Marine is di...</td>\n",
              "    </tr>\n",
              "    <tr>\n",
              "      <th>1</th>\n",
              "      <td>['Johnny Depp', 'Orlando Bloom', 'Keira Knight...</td>\n",
              "      <td>['Adventure', 'Fantasy', 'Action']</td>\n",
              "      <td>285</td>\n",
              "      <td>Pirates of the Caribbean: At World's End</td>\n",
              "      <td>Captain Barbossa, long believed to be dead, ha...</td>\n",
              "    </tr>\n",
              "    <tr>\n",
              "      <th>2</th>\n",
              "      <td>['Daniel Craig', 'Christoph Waltz', 'Léa Seydo...</td>\n",
              "      <td>['Action', 'Adventure', 'Crime']</td>\n",
              "      <td>206647</td>\n",
              "      <td>Spectre</td>\n",
              "      <td>A cryptic message from Bond’s past sends him o...</td>\n",
              "    </tr>\n",
              "    <tr>\n",
              "      <th>3</th>\n",
              "      <td>['Christian Bale', 'Michael Caine', 'Gary Oldm...</td>\n",
              "      <td>['Action', 'Crime', 'Drama']</td>\n",
              "      <td>49026</td>\n",
              "      <td>The Dark Knight Rises</td>\n",
              "      <td>Following the death of District Attorney Harve...</td>\n",
              "    </tr>\n",
              "    <tr>\n",
              "      <th>4</th>\n",
              "      <td>['Taylor Kitsch', 'Lynn Collins', 'Samantha Mo...</td>\n",
              "      <td>['Action', 'Adventure', 'Science Fiction']</td>\n",
              "      <td>49529</td>\n",
              "      <td>John Carter</td>\n",
              "      <td>John Carter is a war-weary, former military ca...</td>\n",
              "    </tr>\n",
              "  </tbody>\n",
              "</table>\n",
              "</div>"
            ],
            "text/plain": [
              "                                                cast  ...                                               plot\n",
              "0  ['Sam Worthington', 'Zoe Saldana', 'Sigourney ...  ...  In the 22nd century, a paraplegic Marine is di...\n",
              "1  ['Johnny Depp', 'Orlando Bloom', 'Keira Knight...  ...  Captain Barbossa, long believed to be dead, ha...\n",
              "2  ['Daniel Craig', 'Christoph Waltz', 'Léa Seydo...  ...  A cryptic message from Bond’s past sends him o...\n",
              "3  ['Christian Bale', 'Michael Caine', 'Gary Oldm...  ...  Following the death of District Attorney Harve...\n",
              "4  ['Taylor Kitsch', 'Lynn Collins', 'Samantha Mo...  ...  John Carter is a war-weary, former military ca...\n",
              "\n",
              "[5 rows x 5 columns]"
            ]
          },
          "metadata": {
            "tags": []
          },
          "execution_count": 26
        }
      ]
    },
    {
      "cell_type": "code",
      "metadata": {
        "id": "Ua3HsRGSQriq"
      },
      "source": [
        "final_data.to_csv('movie_data_compress.csv.zip', index = False)"
      ],
      "execution_count": 29,
      "outputs": []
    },
    {
      "cell_type": "code",
      "metadata": {
        "id": "H__lHckQQxjP"
      },
      "source": [
        ""
      ],
      "execution_count": null,
      "outputs": []
    }
  ]
}